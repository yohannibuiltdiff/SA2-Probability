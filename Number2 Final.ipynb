{
  "nbformat": 4,
  "nbformat_minor": 0,
  "metadata": {
    "colab": {
      "provenance": [],
      "authorship_tag": "ABX9TyMjKFGIJJdePN3ESdqjQFzj",
      "include_colab_link": true
    },
    "kernelspec": {
      "name": "python3",
      "display_name": "Python 3"
    },
    "language_info": {
      "name": "python"
    }
  },
  "cells": [
    {
      "cell_type": "markdown",
      "metadata": {
        "id": "view-in-github",
        "colab_type": "text"
      },
      "source": [
        "<a href=\"https://colab.research.google.com/github/yohannibuiltdiff/SA2-Probability/blob/Finals/Untitled3.ipynb\" target=\"_parent\"><img src=\"https://colab.research.google.com/assets/colab-badge.svg\" alt=\"Open In Colab\"/></a>"
      ]
    },
    {
      "cell_type": "code",
      "execution_count": 9,
      "metadata": {
        "id": "Jm8s9AP4hgFQ"
      },
      "outputs": [],
      "source": [
        "import pandas as pd\n",
        "import numpy as np\n",
        "import matplotlib.pyplot as plt\n",
        "from google.colab import files\n",
        "from scipy.stats import shapiro\n",
        "import io"
      ]
    },
    {
      "cell_type": "code",
      "source": [
        "path=\"/content/drive/MyDrive/Csv folder/Ethereum_compiled_data (1).csv\"\n",
        "df=pd.read_csv(path)\n",
        "\n",
        "df.head"
      ],
      "metadata": {
        "colab": {
          "base_uri": "https://localhost:8080/"
        },
        "id": "f-SNBUBTk4-l",
        "outputId": "9a75cef4-1e77-4255-ab34-dba9be3dddb1"
      },
      "execution_count": 10,
      "outputs": [
        {
          "output_type": "stream",
          "name": "stderr",
          "text": [
            "<ipython-input-10-aac200687619>:2: DtypeWarning: Columns (2) have mixed types. Specify dtype option on import or set low_memory=False.\n",
            "  df=pd.read_csv(path)\n"
          ]
        },
        {
          "output_type": "execute_result",
          "data": {
            "text/plain": [
              "<bound method NDFrame.head of          Unix Timestamp                 Date  Symbol     Open     High  \\\n",
              "0          1.462801e+09  2016-05-09 13:32:00  ETHUSD     0.00    12.00   \n",
              "1          1.462801e+09  2016-05-09 13:33:00  ETHUSD    12.00    12.00   \n",
              "2          1.462801e+09  2016-05-09 13:34:00  ETHUSD    10.00    10.00   \n",
              "3          1.462801e+09  2016-05-09 13:35:00  ETHUSD    10.00    10.00   \n",
              "4          1.462801e+09  2016-05-09 13:36:00  ETHUSD    10.00    10.00   \n",
              "...                 ...                  ...     ...      ...      ...   \n",
              "2294943             NaN  2023-03-31 23:35:00     NaN  1824.01  1824.59   \n",
              "2294944             NaN  2023-03-31 23:40:00     NaN  1823.78  1824.19   \n",
              "2294945             NaN  2023-03-31 23:45:00     NaN  1822.19  1823.62   \n",
              "2294946             NaN  2023-03-31 23:50:00     NaN  1823.08  1823.08   \n",
              "2294947             NaN  2023-03-31 23:55:00     NaN  1821.23  1821.91   \n",
              "\n",
              "             Low    Close        Volume  returns  \n",
              "0           0.00    12.00  4.156276e+00   -12.00  \n",
              "1          10.00    10.00  4.349751e+01     2.00  \n",
              "2          10.00    10.00  8.000000e+00     0.00  \n",
              "3          10.00    10.00  6.000000e+01     0.00  \n",
              "4          10.00    10.00  3.750000e-01     0.00  \n",
              "...          ...      ...           ...      ...  \n",
              "2294943  1823.72  1823.78  2.014939e+06     0.23  \n",
              "2294944  1821.97  1822.19  2.497808e+06     1.59  \n",
              "2294945  1822.19  1823.07  1.406538e+06    -0.88  \n",
              "2294946  1821.05  1821.22  3.821305e+06     1.86  \n",
              "2294947  1821.22  1821.52  4.458900e+06    -0.29  \n",
              "\n",
              "[2294948 rows x 9 columns]>"
            ]
          },
          "metadata": {},
          "execution_count": 10
        }
      ]
    },
    {
      "cell_type": "code",
      "source": [
        "shapiro(df.returns)"
      ],
      "metadata": {
        "colab": {
          "base_uri": "https://localhost:8080/"
        },
        "id": "TUeD58F6lqts",
        "outputId": "9584f7e6-69e2-472f-b0af-82148c7b92b1"
      },
      "execution_count": 11,
      "outputs": [
        {
          "output_type": "stream",
          "name": "stderr",
          "text": [
            "/usr/local/lib/python3.9/dist-packages/scipy/stats/_morestats.py:1816: UserWarning: p-value may not be accurate for N > 5000.\n",
            "  warnings.warn(\"p-value may not be accurate for N > 5000.\")\n"
          ]
        },
        {
          "output_type": "execute_result",
          "data": {
            "text/plain": [
              "ShapiroResult(statistic=0.33266377449035645, pvalue=0.0)"
            ]
          },
          "metadata": {},
          "execution_count": 11
        }
      ]
    },
    {
      "cell_type": "code",
      "source": [
        "plt.plot(df.returns)"
      ],
      "metadata": {
        "colab": {
          "base_uri": "https://localhost:8080/",
          "height": 465
        },
        "id": "NrcYCiBml1nS",
        "outputId": "c9293297-cf41-4eab-ba40-f2aa4aecd29d"
      },
      "execution_count": 12,
      "outputs": [
        {
          "output_type": "execute_result",
          "data": {
            "text/plain": [
              "[<matplotlib.lines.Line2D at 0x7f90573591c0>]"
            ]
          },
          "metadata": {},
          "execution_count": 12
        },
        {
          "output_type": "display_data",
          "data": {
            "text/plain": [
              "<Figure size 640x480 with 1 Axes>"
            ],
            "image/png": "[encoded data removed]"
          },
          "metadata": {}
        }
      ]
    }
  ]
}
